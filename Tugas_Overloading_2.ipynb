{
  "nbformat": 4,
  "nbformat_minor": 0,
  "metadata": {
    "colab": {
      "provenance": [],
      "include_colab_link": true
    },
    "kernelspec": {
      "name": "python3",
      "display_name": "Python 3"
    },
    "language_info": {
      "name": "python"
    }
  },
  "cells": [
    {
      "cell_type": "markdown",
      "metadata": {
        "id": "view-in-github",
        "colab_type": "text"
      },
      "source": [
        "<a href=\"https://colab.research.google.com/github/MochArisRofii/challenge_PBO/blob/main/Tugas_Overloading_2.ipynb\" target=\"_parent\"><img src=\"https://colab.research.google.com/assets/colab-badge.svg\" alt=\"Open In Colab\"/></a>"
      ]
    },
    {
      "cell_type": "code",
      "execution_count": 22,
      "metadata": {
        "id": "5zCytCeM1uD4"
      },
      "outputs": [],
      "source": [
        "#class Nama\n",
        "#Buat fungsi yang digunakan untuk mengabungkan nama dengan ketentuan nama depan, nama tengah, nama akhir, dan seterusnya dianggap 1 (satu) parameter\n",
        "class Nama:\n",
        "  def gabung_nama(self, *nama):\n",
        "    nama_lengkap = ' '.join(nama)\n",
        "    return nama_lengkap"
      ]
    },
    {
      "cell_type": "code",
      "source": [
        "#Buat main program\n",
        "nm = Nama()\n",
        "#Panggil fungsi untuk membuat nama lengkap 4 nama teman kalian\n",
        "teman1 = nm.gabung_nama(\"Moch\", \"Aris\", \"Rofii\")\n",
        "teman2 = nm.gabung_nama(\"Azhar\", \"Zakaria\", \"Bintang\")\n",
        "teman3 = nm.gabung_nama(\"Mochammad\", \"Septian\", \"Rizky\")\n",
        "teman4 = nm.gabung_nama(\"Khansa\", \"Hardi\", \"Kumara\")\n",
        "\n",
        "print(teman1)\n",
        "print(teman2)\n",
        "print(teman3)\n",
        "print(teman4)"
      ],
      "metadata": {
        "id": "liQBcJWZ12MN",
        "colab": {
          "base_uri": "https://localhost:8080/"
        },
        "outputId": "a2a9fcf3-06ea-40e1-ac89-e09ce3337c0d"
      },
      "execution_count": 25,
      "outputs": [
        {
          "output_type": "stream",
          "name": "stdout",
          "text": [
            "Moch Aris Rofii\n",
            "Azhar Zakaria Bintang\n",
            "Mochammad Septian Rizky\n",
            "Khansa Hardi Kumara\n"
          ]
        }
      ]
    },
    {
      "cell_type": "code",
      "source": [
        "#Tulisakan kesimpulan dari materi Overloading menurut pemahaman anda!\n",
        "#Fleksibilitas:\n",
        " #Dengan overloading, pengembang memiliki fleksibilitas untuk mendefinisikan fungsi dengan nama\n",
        " #yang sama dan membuat kode lebih intuitif dan mudah dimengerti.\n"
      ],
      "metadata": {
        "id": "xwFmppIG3JGE"
      },
      "execution_count": null,
      "outputs": []
    }
  ]
}