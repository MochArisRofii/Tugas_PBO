{
  "nbformat": 4,
  "nbformat_minor": 0,
  "metadata": {
    "colab": {
      "provenance": [],
      "include_colab_link": true
    },
    "kernelspec": {
      "name": "python3",
      "display_name": "Python 3"
    },
    "language_info": {
      "name": "python"
    }
  },
  "cells": [
    {
      "cell_type": "markdown",
      "metadata": {
        "id": "view-in-github",
        "colab_type": "text"
      },
      "source": [
        "<a href=\"https://colab.research.google.com/github/MochArisRofii/challenge_PBO/blob/main/UTSPraktek_PBO_PaketB.ipynb\" target=\"_parent\"><img src=\"https://colab.research.google.com/assets/colab-badge.svg\" alt=\"Open In Colab\"/></a>"
      ]
    },
    {
      "cell_type": "markdown",
      "source": [
        "**Sistem Manajemen Pasien Rumah Sakit**\n",
        "\n",
        "Anda adalah seorang pengembang perangkat lunak yang bekerja untuk rumah sakit. Rumah sakit ini memiliki kelas induk Pasien dengan atribut berikut:\n",
        "*   nomer rekam medis\n",
        "*   nama\n",
        "*   umur\n",
        "*   jenis kelamin\n",
        "\n",
        "Selain itu, rumah sakit ini memiliki dua jenis pasien yaitu rawat inap dan rawat jalan.\n",
        "\n",
        "Pasien rawat inap memiliki atribut tambahan nomor kamar (contoh nomer kamar bebas)\n",
        "\n",
        "Sementara pasien rawat jalan memiliki atribut tambahan frekuensi kunjungan (harian, pekanan, dsb)\n",
        "\n",
        "Manajemen rumah sakit ingin Anda membuat program Python yang memungkinkan mereka untuk mencetak informasi tentang setiap pasien, termasuk nomer rekam medis, nama, umur, jenis kelamin, serta atribut tambahan yang sesuai (nomer kamar dan frekuensi kunungan).\n",
        "\n",
        "Buatlah program yang terdiri dari class-class yang dibutuhkan dan program utama yang digunakan untuk menjalankan class-class yang telah dibuat.\n",
        "\n",
        "Selamat mengerjakan!"
      ],
      "metadata": {
        "id": "xNiqvOwe07Hh"
      }
    },
    {
      "cell_type": "code",
      "execution_count": null,
      "metadata": {
        "id": "7mpdReMA0z6H"
      },
      "outputs": [],
      "source": [
        "#Class\n",
        "class Rumah_Sakit:\n",
        "  def __init__(self, nomer_rekam_medis, nama, umur, jenis_kelamin):\n",
        "    self.nomer_rekam_medis = nomer_rekam_medis\n",
        "    self.nama = nama\n",
        "    self.umur = umur\n",
        "    self.jenis_kelamin = jenis_kelamin\n",
        "\n",
        "  def deskripsi(self):\n",
        "    print(f'nomer rekam medis: {self.nomer_rekam_medis}')\n",
        "    print(f'nama: {self.nama}')\n",
        "    print(f'umur: {self.umur}')\n",
        "    print(f'jenis_kelamin: {self.jenis_kelamin}')"
      ]
    },
    {
      "cell_type": "code",
      "source": [
        "#Class\n",
        "class Pasien_Rawat_Inap(Rumah_Sakit):\n",
        "  def __init__(self, nomer_rekam_medis, nama, umur, jenis_kelamin, nomor_kamar):\n",
        "    super().__init__(nomer_rekam_medis, nama, umur, jenis_kelamin)\n",
        "    self.nomor_kamar = nomor_kamar\n",
        "\n",
        "  def deskripsi(self):\n",
        "    super().deskripsi()\n",
        "    print(f'nomor_kamar: {self.nomor_kamar}')"
      ],
      "metadata": {
        "id": "tuongXEV2zlx"
      },
      "execution_count": null,
      "outputs": []
    },
    {
      "cell_type": "code",
      "source": [
        "#Class\n",
        "class Pasien_Rawat_Jalan(Rumah_Sakit):\n",
        "  def __init__(self, nomer_rekam_medis, nama, umur, jenis_kelamin, frekuensi_kunjungan):\n",
        "    super().__init__(nomer_rekam_medis, nama, umur, jenis_kelamin)\n",
        "    self.frekuensi_kunjungan = frekuensi_kunjungan\n",
        "\n",
        "  def deskripsi(self):\n",
        "    super().deskripsi()\n",
        "    print(f'frekuensi kunjungan: {self.frekuensi_kunjungan}')"
      ],
      "metadata": {
        "id": "E45LQTxC20qY"
      },
      "execution_count": null,
      "outputs": []
    },
    {
      "cell_type": "code",
      "source": [
        "#Nama : Moch Aris Rofii\n",
        "#Kelas : XI RPL 2\n",
        "#Program utama\n",
        "#class Pasien rawat inap\n",
        "Pasien_Inap = Pasien_Rawat_Inap(\"25647\", \"MIUU\", \"17\", \"Laki-Laki\", \"101\")\n",
        "\n",
        "#class Pasien Rawat Jalan\n",
        "Pasien_Jalan = Pasien_Rawat_Jalan(\"47384\", \"MEIY\", \"16\", \"Perempuan\", \"Harian\")\n",
        "\n",
        "#deskripsi pasien rawat inap\n",
        "print(\"Informasi Pasien Rawat Inap:\")\n",
        "Pasien_Inap.deskripsi()\n",
        "\n",
        "#deskripsi pasien rawat jalan\n",
        "print(\"\\ninformasi Pasien Rawat Jalan:\")\n",
        "Pasien_Jalan.deskripsi()"
      ],
      "metadata": {
        "id": "eA5Vo5a1211e",
        "colab": {
          "base_uri": "https://localhost:8080/"
        },
        "outputId": "80d45170-853a-42b6-b959-731932491b30"
      },
      "execution_count": null,
      "outputs": [
        {
          "output_type": "stream",
          "name": "stdout",
          "text": [
            "Informasi Pasien Rawat Inap:\n",
            "nomer rekam medis: 25647\n",
            "nama: MIUU\n",
            "umur: 17\n",
            "jenis_kelamin: Laki-Laki\n",
            "nomor_kamar: 101\n",
            "\n",
            "informasi Pasien Rawat Jalan:\n",
            "nomer rekam medis: 47384\n",
            "nama: MEIY\n",
            "umur: 16\n",
            "jenis_kelamin: Perempuan\n",
            "frekuensi kunjungan: Harian\n"
          ]
        }
      ]
    },
    {
      "cell_type": "markdown",
      "source": [
        "## Penjelasan\n",
        "Class **Rumah_Sakit** adalah class induk dengan Atribut nomer rekam media, nama, umur, dan jenis kelamin. Fungsi Deskripsi dalam kelas ini mencetak informasi umum tentang pasien.\n",
        "\n",
        "Class **Pasien_Rawat_Inap** mewarisi dari class Rumah_Sakit dan memiliki Atribut tambahan nomer kamar. Fungsi informasi dalam class ini memanggil fungsi informasi dari class Rumah_Sakit dan mencetak informasi tambahan tentang pasien rawat inap, yaitu Nomor Kamar\n",
        "\n",
        "Class **Pasien_Rawat_Jalan** juga mewarisi dari class Rumah_Sakit dan memiliki Atribut Tambahan frekuensi kunjungan. Fungsi informasi dalam class ini juga memanggil informasi deskripsi dari class induk dan mencetak informasi tambahan tentang pasien rawat jalan, yaitu frekuensi kunjungan"
      ],
      "metadata": {
        "id": "f3ISiDJB24Ve"
      }
    }
  ]
}