{
  "nbformat": 4,
  "nbformat_minor": 0,
  "metadata": {
    "colab": {
      "provenance": [],
      "include_colab_link": true
    },
    "kernelspec": {
      "name": "python3",
      "display_name": "Python 3"
    },
    "language_info": {
      "name": "python"
    }
  },
  "cells": [
    {
      "cell_type": "markdown",
      "metadata": {
        "id": "view-in-github",
        "colab_type": "text"
      },
      "source": [
        "<a href=\"https://colab.research.google.com/github/MochArisRofii/Tugas_PBO/blob/main/Tugas_Latihan21.ipynb\" target=\"_parent\"><img src=\"https://colab.research.google.com/assets/colab-badge.svg\" alt=\"Open In Colab\"/></a>"
      ]
    },
    {
      "cell_type": "markdown",
      "source": [
        "Sebuah start-up GoPay merupakan perusahaan vintage yang menjadi alat pembayaran aplikasi marketplace dan lainnya. Anda seorang programmer yang ditugaskan untuk membuat aplikasi GoPay yang memiliki sebuah class bernama AkunGopay, yang memiliki atribut no_hp, nama dan saldo, dimana semua atribut bersifat private, demi keamanan.\n",
        "\n",
        "\n",
        "Pengguna bisa mendaftar akun GoPay dengan no_hp dan nama saja, namun juga bisa mendaftar dengan no_hp, nama dan saldo. Jika mendaftar dengan no_hp dan nama saja maka saldo otomatis bernilai 0.\n",
        "\n",
        "\n",
        "Class AkunGopay harus menyediakan fungsi yang dapat diakses oleh Marketplace untuk melakukan transaksi, yaitu :\n",
        "\n",
        "1.   topUp(), yang digunakan untuk menambahkan saldo\n",
        "2.   bayarTransaksi(), yang mengurangi saldo ketika melakukan transaksi\n",
        "3.   getSaldo(), untuk mengetahui jumlah saldo\n",
        "\n",
        "\n",
        "\n",
        "Teman Anda adalah seorang programer yang bekerja di sebuah start-up terkemuka Tokopedia yang bekerjasama dengan start-up keuangan GoPay. Anda ditugaskan membuat apikasi yang memiliki class AkunToped, dan memiliki atribut nama dan nomer_hp.\n",
        "\n",
        "Class AkunToped harus menyediakan fungsi yang untuk melakukan transaksi, yaitu:\n",
        "\n",
        "1. transaksi(), yang digunakan untuk mengurangi saldo Gopay dengan paramater nominal transaksi.\n",
        "2. getSaldo(), untuk mengetahui jumlah saldo Gopay.\n",
        "\n"
      ],
      "metadata": {
        "id": "NOQKwrfHB4pv"
      }
    },
    {
      "cell_type": "code",
      "execution_count": 38,
      "metadata": {
        "id": "peDTMz-5kxlh"
      },
      "outputs": [],
      "source": [
        "#Desain Class\n",
        "class AkunGopay:\n",
        "  def __init__(self, no_hp, nama, saldo = 0):\n",
        "    self.__no_hp = no_hp\n",
        "    self.__nama = nama\n",
        "    self.__saldo = saldo\n",
        "\n",
        "  def topUp(self, jumlah):\n",
        "    self.__saldo += jumlah\n",
        "    print(\"TopUp Saldo Rp:\", jumlah)\n",
        "    print(\"jumlah sesudah TopUp Rp:\", self.__saldo)\n",
        "\n",
        "  def bayarTransaksi(self, jumlah):\n",
        "    if jumlah <= self.__saldo:\n",
        "      self.__saldo -= jumlah\n",
        "      print(\"Melakukan Penarikan Uang Rp:\", jumlah)\n",
        "      print(\"Saldo Saat Ini Rp:\", self.__saldo)\n",
        "    else:\n",
        "      print(\"Saldo Tidak Mencukupi Untuk Melakukan Transaksi\")\n",
        "\n",
        "  def getsaldo(self):\n",
        "    return self.__saldo\n",
        "\n",
        "\n",
        "class AkunTokped:\n",
        "  def __init__(self, nama, no_hp):\n",
        "    self.__nama = nama\n",
        "    self.__no_hp = no_hp\n",
        "\n",
        "  def transaksiTokped(self, akun_Gopay, No_minal_Transaksi):\n",
        "    if No_minal_Transaksi > 0:\n",
        "      akun_Gopay.bayarTransaksi(No_minal_Transaksi)\n",
        "    else:\n",
        "      print(\"Jumlah Transaksi Harus Lebih dari 0\")\n",
        "\n",
        "  def getsaldo(self, Nominal):\n",
        "    return Nominal.getsaldo()"
      ]
    },
    {
      "cell_type": "code",
      "source": [
        "#Main Program\n",
        "print(\"Akun Gopay\")\n",
        "akun1 = AkunGopay(\"08993673900\", \"Moch Aris Rofii\", 1000000)\n",
        "print(\"Saldo Rp:\", akun1.getsaldo())\n",
        "\n",
        "akun2 = AkunGopay(\"081216956115\", \"Meiy\")\n",
        "print(\"Saldo Rp:\", akun2.getsaldo())\n",
        "\n",
        "akun1.topUp(3500000)\n",
        "akun1.bayarTransaksi(500000)\n",
        "akun1.getsaldo()\n",
        "\n",
        "print(\"\\nAkun Tokped\")\n",
        "akuntokped1 = AkunTokped(\"Moch Aris Rofii\", \"08993673900\")\n",
        "print(\"Saldo AkunGopay di Tokped Rp:\", akuntokped1.getsaldo(akun1))\n",
        "\n",
        "akuntokped2 = AkunTokped(\"Meiy\", \"081216956115\")\n",
        "print(\"Saldo AkunGopay Di Tokped Rp:\", akuntokped2.getsaldo(akun2))\n",
        "\n",
        "akuntokped1.transaksiTokped(akun1, 500000)\n",
        "akuntokped1.getsaldo(akun1)"
      ],
      "metadata": {
        "id": "eitzekkYkycQ",
        "colab": {
          "base_uri": "https://localhost:8080/"
        },
        "outputId": "b7ab38a0-b918-4993-98e3-4599ce7a1232"
      },
      "execution_count": 40,
      "outputs": [
        {
          "output_type": "stream",
          "name": "stdout",
          "text": [
            "Akun Gopay\n",
            "Saldo Rp: 1000000\n",
            "Saldo Rp: 0\n",
            "TopUp Saldo Rp: 3500000\n",
            "jumlah sesudah TopUp Rp: 4500000\n",
            "Melakukan Penarikan Uang Rp: 500000\n",
            "Saldo Saat Ini Rp: 4000000\n",
            "\n",
            "Akun Tokped\n",
            "Saldo AkunGopay di Tokped Rp: 4000000\n",
            "Saldo AkunGopay Di Tokped Rp: 0\n",
            "Melakukan Penarikan Uang Rp: 500000\n",
            "Saldo Saat Ini Rp: 3500000\n"
          ]
        },
        {
          "output_type": "execute_result",
          "data": {
            "text/plain": [
              "3500000"
            ]
          },
          "metadata": {},
          "execution_count": 40
        }
      ]
    }
  ]
}