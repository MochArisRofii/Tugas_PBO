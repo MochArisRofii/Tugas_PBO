{
  "nbformat": 4,
  "nbformat_minor": 0,
  "metadata": {
    "colab": {
      "provenance": [],
      "include_colab_link": true
    },
    "kernelspec": {
      "name": "python3",
      "display_name": "Python 3"
    },
    "language_info": {
      "name": "python"
    }
  },
  "cells": [
    {
      "cell_type": "markdown",
      "metadata": {
        "id": "view-in-github",
        "colab_type": "text"
      },
      "source": [
        "<a href=\"https://colab.research.google.com/github/MochArisRofii/Tugas_PBO/blob/main/Tugas_Latihan21.ipynb\" target=\"_parent\"><img src=\"https://colab.research.google.com/assets/colab-badge.svg\" alt=\"Open In Colab\"/></a>"
      ]
    },
    {
      "cell_type": "markdown",
      "source": [
        "Sebuah start-up GoPay merupakan perusahaan vintage yang menjadi alat pembayaran aplikasi marketplace dan lainnya. Anda seorang programmer yang ditugaskan untuk membuat aplikasi GoPay yang memiliki sebuah class bernama AkunGopay, yang memiliki atribut no_hp, nama dan saldo, dimana semua atribut bersifat private, demi keamanan.\n",
        "\n",
        "\n",
        "Pengguna bisa mendaftar akun GoPay dengan no_hp dan nama saja, namun juga bisa mendaftar dengan no_hp, nama dan saldo. Jika mendaftar dengan no_hp dan nama saja maka saldo otomatis bernilai 0.\n",
        "\n",
        "\n",
        "Class AkunGopay harus menyediakan fungsi yang dapat diakses oleh Marketplace untuk melakukan transaksi, yaitu :\n",
        "\n",
        "1.   topUp(), yang digunakan untuk menambahkan saldo\n",
        "2.   bayarTransaksi(), yang mengurangi saldo ketika melakukan transaksi\n",
        "3.   getSaldo(), untuk mengetahui jumlah saldo\n",
        "\n",
        "\n",
        "\n",
        "Teman Anda adalah seorang programer yang bekerja di sebuah start-up terkemuka Tokopedia yang bekerjasama dengan start-up keuangan GoPay. Anda ditugaskan membuat apikasi yang memiliki class AkunToped, dan memiliki atribut nama dan nomer_hp.\n",
        "\n",
        "Class AkunToped harus menyediakan fungsi yang untuk melakukan transaksi, yaitu:\n",
        "\n",
        "1. transaksi(), yang digunakan untuk mengurangi saldo Gopay dengan paramater nominal transaksi.\n",
        "2. getSaldo(), untuk mengetahui jumlah saldo Gopay.\n",
        "\n"
      ],
      "metadata": {
        "id": "NOQKwrfHB4pv"
      }
    },
    {
      "cell_type": "code",
      "execution_count": 18,
      "metadata": {
        "id": "peDTMz-5kxlh"
      },
      "outputs": [],
      "source": [
        "#Desain Class\n",
        "class AkunGopay:\n",
        "  def __init__(self, no_hp, nama, saldo = 0):\n",
        "    self.__no_hp = no_hp\n",
        "    self.__nama = nama\n",
        "    self.__saldo = saldo\n",
        "\n",
        "  def topUp(self, jumlah):\n",
        "    self.__saldo += jumlah\n",
        "\n",
        "  def bayarTransaksi(self, jumlah):\n",
        "    if jumlah <= self.__saldo:\n",
        "      self.__saldo -= jumlah\n",
        "    else:\n",
        "      print(\"Saldo Tidak Mencukupi Untuk Melakukan Transaksi\")\n",
        "\n",
        "  def getsaldo(self):\n",
        "    return self.__saldo\n",
        "\n",
        "\n",
        "class AkunTokped:\n",
        "  def __init__(self, nama, no_hp):\n",
        "    self.__nama = nama\n",
        "    self.__no_hp = no_hp\n",
        "\n",
        "  def transaksiTokped(self, akun_Gopay, jumlah):\n",
        "    if jumlah > 0:\n",
        "      akun_Gopay.bayarTransaksi(jumlah)\n",
        "    else:\n",
        "      print(\"Jumlah Transaksi Harus Lebih dari 0\")\n",
        "  def getsaldo(self, akun_gopay):\n",
        "    return akun_gopay.getsaldo()"
      ]
    },
    {
      "cell_type": "code",
      "source": [
        "#Main Program AkunGopay\n",
        "akun1 = AkunGopay(\"08993673900\", \"Moch Aris Rofii\", 10000)\n",
        "print(\"Saldo Akun1:\", akun1.getsaldo())\n",
        "\n",
        "akun2 = AkunGopay(\"081216956115\", \"Miuu\")\n",
        "print(\"\\nSaldo Akun1:\", akun2.getsaldo())"
      ],
      "metadata": {
        "id": "eitzekkYkycQ",
        "colab": {
          "base_uri": "https://localhost:8080/"
        },
        "outputId": "ca97d81d-a367-4866-aeb6-8c60595abe2d"
      },
      "execution_count": 19,
      "outputs": [
        {
          "output_type": "stream",
          "name": "stdout",
          "text": [
            "Saldo Akun1: 10000\n",
            "\n",
            "Saldo Akun1: 0\n"
          ]
        }
      ]
    },
    {
      "cell_type": "code",
      "source": [
        "#Main Program AkunTokoPedia\n",
        "akuntokped1 = AkunTokped(\"Moch Aris Rofii\", \"08993673900\")\n",
        "print(\"Saldo AkunGopay di Tokped:\", akuntokped1.getsaldo(akun1))\n",
        "\n",
        "akuntokped2 = AkunTokped(\"Miuu\", \"081216956115\")\n",
        "print(\"\\nSaldo AkunGopay Di Tokped:\", akuntokped2.getsaldo(akun2))"
      ],
      "metadata": {
        "colab": {
          "base_uri": "https://localhost:8080/"
        },
        "id": "9j4tJ67qAT35",
        "outputId": "e72e3959-fe11-44a3-ed33-d680dbb25331"
      },
      "execution_count": 25,
      "outputs": [
        {
          "output_type": "stream",
          "name": "stdout",
          "text": [
            "Saldo AkunGopay di Tokped: 10000\n",
            "\n",
            "Saldo AkunGopay Di Tokped: 0\n"
          ]
        }
      ]
    }
  ]
}