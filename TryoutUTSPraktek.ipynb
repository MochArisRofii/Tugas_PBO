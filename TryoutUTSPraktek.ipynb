{
  "nbformat": 4,
  "nbformat_minor": 0,
  "metadata": {
    "colab": {
      "provenance": [],
      "include_colab_link": true
    },
    "kernelspec": {
      "name": "python3",
      "display_name": "Python 3"
    },
    "language_info": {
      "name": "python"
    }
  },
  "cells": [
    {
      "cell_type": "markdown",
      "metadata": {
        "id": "view-in-github",
        "colab_type": "text"
      },
      "source": [
        "<a href=\"https://colab.research.google.com/github/MochArisRofii/challenge_PBO/blob/main/TryoutUTSPraktek.ipynb\" target=\"_parent\"><img src=\"https://colab.research.google.com/assets/colab-badge.svg\" alt=\"Open In Colab\"/></a>"
      ]
    },
    {
      "cell_type": "markdown",
      "source": [
        "Anda adalah seorang ilmuwan lingkungan yang bekerja dalam penelitian organisme di berbagai ekosistem. Anda memiliki kelas dasar Organisme dengan atribut berikut:\n",
        "\n",
        "*   nama (nama organisme)\n",
        "*   jenis (jenis organisme, misalnya, tumbuhan, hewan, mikroba, dll.)\n",
        "\n",
        "Selain itu, Anda memiliki dua jenis organisme spesifik: **Tumbuhan** dan **Hewan**.\n",
        "\n",
        "Tumbuhan memiliki atribut tambahan yaitu lokasi (lokasi tumbuhan ditemukan, misalnya, hutan, sungai, dll.)\n",
        "\n",
        "Sementara Hewan memiliki atribut tambahan yaitu makanan (jenis makanan yang dikonsumsi hewan, misalnya, herbivora, karnivora, omnivora, dll.)\n",
        "\n",
        "\n",
        "Anda ditugaskan membuat program Python yang memungkinkan Anda untuk mencetak informasi tentang setiap organisme, termasuk nama, jenis, serta atribut tambahan yang sesuai (lokasi atau jenis makanan)."
      ],
      "metadata": {
        "id": "Xcnm52jtL9YY"
      }
    },
    {
      "cell_type": "code",
      "execution_count": 19,
      "metadata": {
        "id": "9pLv2WhSLUZc"
      },
      "outputs": [],
      "source": [
        "class Organisme:\n",
        "#Buat class Organisme disini\n",
        "  def __init__(self, nama, jenis):\n",
        "    self.nama = nama\n",
        "    self.jenis = jenis\n",
        "\n",
        "  def informasi(self):\n",
        "    print(f\"Nama: {self.nama}\")\n",
        "    print(f\"jenis: {self.jenis}\")"
      ]
    },
    {
      "cell_type": "code",
      "source": [
        "class Tumbuhan(Organisme):\n",
        "#Buat class Tumbuhan disini\n",
        "  def __init__(self, nama, jenis, lokasi):\n",
        "    super().__init__(nama, jenis)\n",
        "    self.lokasi = lokasi\n",
        "\n",
        "  def informasi(self):\n",
        "    super().informasi()\n",
        "    print(f\"Lokasi: {self.lokasi}\")"
      ],
      "metadata": {
        "id": "aZ-2FjdaObMu"
      },
      "execution_count": 20,
      "outputs": []
    },
    {
      "cell_type": "code",
      "source": [
        "class Hewan(Organisme):\n",
        "#Buat class Hewan disini\n",
        "  def __init__(self, nama, jenis, makanan):\n",
        "    super().__init__(nama, jenis)\n",
        "    self.makanan = makanan\n",
        "\n",
        "  def informasi(self):\n",
        "    super().informasi()\n",
        "    print(f\"makanan: {self.makanan}\")"
      ],
      "metadata": {
        "id": "ItwqUUUjOdp4"
      },
      "execution_count": 21,
      "outputs": []
    },
    {
      "cell_type": "code",
      "source": [
        "#Buat program disini untuk menggunakan class-class di atas dan menampilkan informasi\n",
        "if __name__ == \"__main__\":\n",
        "  tumbuhan1 = Tumbuhan(\"Pohon Oak\", \"Tumbuhan\", \"Hutan\")\n",
        "  tumbuhan2 = Tumbuhan(\"Bunga Matahari\", \"Tumbuhan\", \"Ladang\")\n",
        "\n",
        "  hewan1 = Hewan(\"Singa\", \"Hewan\", \"Karnivora\")\n",
        "  hewan2 = Hewan(\"Gajah\", \"Hewan\", \"Herbivora\")\n",
        "\n",
        "  print(\"informasi Tumbuhan:\")\n",
        "  tumbuhan1.informasi()\n",
        "  tumbuhan2.informasi()\n",
        "\n",
        "  print(\"\\n informasi Hewan:\")\n",
        "  hewan1.informasi()\n",
        "  hewan2.informasi()"
      ],
      "metadata": {
        "id": "gWi4_l0gOe-8",
        "colab": {
          "base_uri": "https://localhost:8080/"
        },
        "outputId": "eacd057a-cc73-4c4b-84f7-5b60b96c35be"
      },
      "execution_count": 22,
      "outputs": [
        {
          "output_type": "stream",
          "name": "stdout",
          "text": [
            "informasi Tumbuhan:\n",
            "Nama: Pohon Oak\n",
            "jenis: Tumbuhan\n",
            "Lokasi: Hutan\n",
            "Nama: Bunga Matahari\n",
            "jenis: Tumbuhan\n",
            "Lokasi: Ladang\n",
            "\n",
            " informasi Hewan:\n",
            "Nama: Singa\n",
            "jenis: Hewan\n",
            "makanan: Karnivora\n",
            "Nama: Gajah\n",
            "jenis: Hewan\n",
            "makanan: Herbivora\n"
          ]
        }
      ]
    },
    {
      "cell_type": "markdown",
      "source": [
        "# Penjelasan:\n",
        "\n",
        "Class Organisasi adalah kelas induk dengan atribut **Nama** dan **Jenis**. Fungsi **informasi** dalam kelas ini mencetak informasi umum tentang organisme.\n",
        "\n",
        "Class **Tumbuhan** Adalah Turunan Dari class Organisme dan memiliki Atribut tambahan **lokasi**. Fungsi **informasi** dalam class ini memanggil fungsi **informasi** dari class dasar (super().informasi()) dan mencetak informasi tambahan tentang tumbuhan, yaitu **Lokasi**.\n",
        "\n",
        "Kelas **Hewan** juga mewarisi dari class **Organisme** dan memiliki Atribut Tambahan **makanan**. Fungsi **informasi** dalam class ini juga memanggil fungsi **informasi** dari class dasar (super().informasi()) dan mencetak informasi tambahan tentang Hewan, yaitu **Makanan**"
      ],
      "metadata": {
        "id": "2xAfWE4hMnGD"
      }
    }
  ]
}