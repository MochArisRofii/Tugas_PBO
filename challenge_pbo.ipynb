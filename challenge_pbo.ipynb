{
  "nbformat": 4,
  "nbformat_minor": 0,
  "metadata": {
    "colab": {
      "private_outputs": true,
      "provenance": [],
      "authorship_tag": "ABX9TyPw4sncOb+Yq3W7Si3pi642",
      "include_colab_link": true
    },
    "kernelspec": {
      "name": "python3",
      "display_name": "Python 3"
    },
    "language_info": {
      "name": "python"
    }
  },
  "cells": [
    {
      "cell_type": "markdown",
      "metadata": {
        "id": "view-in-github",
        "colab_type": "text"
      },
      "source": [
        "<a href=\"https://colab.research.google.com/github/MochArisRofii/challenge_PBO/blob/main/challenge_pbo.ipynb\" target=\"_parent\"><img src=\"https://colab.research.google.com/assets/colab-badge.svg\" alt=\"Open In Colab\"/></a>"
      ]
    },
    {
      "cell_type": "code",
      "source": [
        "class User:\n",
        "    def __init__(self, username, password):\n",
        "        self.username = username\n",
        "        self.password = password\n",
        "\n",
        "    def login(self, input_username, input_password):\n",
        "        if self.username == input_username and self.password == input_password:\n",
        "            return True\n",
        "        else:\n",
        "            return False\n",
        "\n",
        "    def welcome_message(self):\n",
        "        return f\"Selamat datang, {self.username}!\"\n",
        "\n",
        "def data():\n",
        "    username = input(\"username:\\t \")\n",
        "    password = input(\"password:\\t \")\n",
        "\n",
        "    user = User(username, password)\n",
        "\n",
        "    if user.login(username, password):\n",
        "        print(user.welcome_message())\n",
        "    else:\n",
        "        print(\"Login gagal. Coba lagi!\")\n",
        "\n",
        "if __name__ == \"__main__\":\n",
        "    data()\n"
      ],
      "metadata": {
        "id": "i5p-WZyr_qOX"
      },
      "execution_count": null,
      "outputs": []
    }
  ]
}